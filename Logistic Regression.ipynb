{
 "cells": [
  {
   "cell_type": "code",
   "execution_count": 1,
   "id": "4d09034e",
   "metadata": {},
   "outputs": [],
   "source": [
    "import pandas as pd\n",
    "from sklearn import datasets"
   ]
  },
  {
   "cell_type": "code",
   "execution_count": 5,
   "id": "55bc6858",
   "metadata": {},
   "outputs": [
    {
     "data": {
      "text/plain": [
       "['DESCR',\n",
       " 'data',\n",
       " 'data_module',\n",
       " 'feature_names',\n",
       " 'filename',\n",
       " 'frame',\n",
       " 'target',\n",
       " 'target_names']"
      ]
     },
     "execution_count": 5,
     "metadata": {},
     "output_type": "execute_result"
    }
   ],
   "source": [
    "iris= datasets.load_iris()\n",
    "dir(iris)"
   ]
  },
  {
   "cell_type": "code",
   "execution_count": 26,
   "id": "3ef6d0dc",
   "metadata": {},
   "outputs": [
    {
     "name": "stdout",
     "output_type": "stream",
     "text": [
      "0\n",
      "0\n",
      "0\n",
      "0\n",
      "0\n",
      "0\n",
      "0\n",
      "0\n",
      "0\n",
      "0\n",
      "0\n",
      "0\n",
      "0\n",
      "0\n",
      "0\n",
      "0\n",
      "0\n",
      "0\n",
      "0\n",
      "0\n",
      "0\n",
      "0\n",
      "0\n",
      "0\n",
      "0\n",
      "0\n",
      "0\n",
      "0\n",
      "0\n",
      "0\n",
      "0\n",
      "0\n",
      "0\n",
      "0\n",
      "0\n",
      "0\n",
      "0\n",
      "0\n",
      "0\n",
      "0\n",
      "0\n",
      "0\n",
      "0\n",
      "0\n",
      "0\n",
      "0\n",
      "0\n",
      "0\n",
      "0\n",
      "0\n",
      "1\n",
      "1\n",
      "1\n",
      "1\n",
      "1\n",
      "1\n",
      "1\n",
      "1\n",
      "1\n",
      "1\n",
      "1\n",
      "1\n",
      "1\n",
      "1\n",
      "1\n",
      "1\n",
      "1\n",
      "1\n",
      "1\n",
      "1\n",
      "1\n",
      "1\n",
      "1\n",
      "1\n",
      "1\n",
      "1\n",
      "1\n",
      "1\n",
      "1\n",
      "1\n",
      "1\n",
      "1\n",
      "1\n",
      "1\n",
      "1\n",
      "1\n",
      "1\n",
      "1\n",
      "1\n",
      "1\n",
      "1\n",
      "1\n",
      "1\n",
      "1\n",
      "1\n",
      "1\n",
      "1\n",
      "1\n",
      "1\n",
      "1\n",
      "2\n",
      "2\n",
      "2\n",
      "2\n",
      "2\n",
      "2\n",
      "2\n",
      "2\n",
      "2\n",
      "2\n",
      "2\n",
      "2\n",
      "2\n",
      "2\n",
      "2\n",
      "2\n",
      "2\n",
      "2\n",
      "2\n",
      "2\n",
      "2\n",
      "2\n",
      "2\n",
      "2\n",
      "2\n",
      "2\n",
      "2\n",
      "2\n",
      "2\n",
      "2\n",
      "2\n",
      "2\n",
      "2\n",
      "2\n",
      "2\n",
      "2\n",
      "2\n",
      "2\n",
      "2\n",
      "2\n",
      "2\n",
      "2\n",
      "2\n",
      "2\n",
      "2\n",
      "2\n",
      "2\n",
      "2\n",
      "2\n",
      "2\n"
     ]
    }
   ],
   "source": [
    "for i in range(150):\n",
    "    print (iris.target[i])"
   ]
  },
  {
   "cell_type": "code",
   "execution_count": 14,
   "id": "90c4f466",
   "metadata": {},
   "outputs": [
    {
     "data": {
      "text/plain": [
       "array(['setosa', 'versicolor', 'virginica'], dtype='<U10')"
      ]
     },
     "execution_count": 14,
     "metadata": {},
     "output_type": "execute_result"
    }
   ],
   "source": [
    "iris.target_names"
   ]
  },
  {
   "cell_type": "code",
   "execution_count": 16,
   "id": "8bbc6148",
   "metadata": {},
   "outputs": [
    {
     "data": {
      "text/plain": [
       "['sepal length (cm)',\n",
       " 'sepal width (cm)',\n",
       " 'petal length (cm)',\n",
       " 'petal width (cm)']"
      ]
     },
     "execution_count": 16,
     "metadata": {},
     "output_type": "execute_result"
    }
   ],
   "source": [
    "iris.feature_names"
   ]
  },
  {
   "cell_type": "code",
   "execution_count": 76,
   "id": "5df628c4",
   "metadata": {
    "scrolled": true
   },
   "outputs": [
    {
     "data": {
      "text/plain": [
       "array([5.1, 3.5, 1.4, 0.2])"
      ]
     },
     "execution_count": 76,
     "metadata": {},
     "output_type": "execute_result"
    }
   ],
   "source": [
    "iris.data[0]"
   ]
  },
  {
   "cell_type": "markdown",
   "id": "9e23a7bf",
   "metadata": {},
   "source": [
    " iris.data[0]=[ sepal length(cm),sepal width(cm),petal length(cm),petal-width(cm)]"
   ]
  },
  {
   "cell_type": "code",
   "execution_count": 28,
   "id": "82895971",
   "metadata": {},
   "outputs": [],
   "source": [
    "from sklearn.model_selection import train_test_split"
   ]
  },
  {
   "cell_type": "code",
   "execution_count": 29,
   "id": "6bc2dc39",
   "metadata": {},
   "outputs": [],
   "source": [
    "X_train,X_test,y_train,y_test=train_test_split(iris.data,iris.target,test_size=0.2)"
   ]
  },
  {
   "cell_type": "code",
   "execution_count": 55,
   "id": "2b1cfb2e",
   "metadata": {},
   "outputs": [],
   "source": [
    "from sklearn.linear_model import LogisticRegression\n",
    "reg=  LogisticRegression()"
   ]
  },
  {
   "cell_type": "code",
   "execution_count": 56,
   "id": "35fc6173",
   "metadata": {},
   "outputs": [
    {
     "name": "stderr",
     "output_type": "stream",
     "text": [
      "/Users/mac/opt/anaconda3/lib/python3.9/site-packages/sklearn/linear_model/_logistic.py:814: ConvergenceWarning: lbfgs failed to converge (status=1):\n",
      "STOP: TOTAL NO. of ITERATIONS REACHED LIMIT.\n",
      "\n",
      "Increase the number of iterations (max_iter) or scale the data as shown in:\n",
      "    https://scikit-learn.org/stable/modules/preprocessing.html\n",
      "Please also refer to the documentation for alternative solver options:\n",
      "    https://scikit-learn.org/stable/modules/linear_model.html#logistic-regression\n",
      "  n_iter_i = _check_optimize_result(\n"
     ]
    },
    {
     "data": {
      "text/plain": [
       "LogisticRegression()"
      ]
     },
     "execution_count": 56,
     "metadata": {},
     "output_type": "execute_result"
    }
   ],
   "source": [
    "reg.fit(X_train,y_train)"
   ]
  },
  {
   "cell_type": "code",
   "execution_count": 72,
   "id": "178fc947",
   "metadata": {},
   "outputs": [
    {
     "data": {
      "text/plain": [
       "array([1, 2, 2, 0, 2, 0, 2, 0, 1, 0, 0, 0, 0, 0, 2, 2, 2, 0, 1, 0, 0, 2,\n",
       "       2, 0, 0, 2, 1, 1, 0, 2])"
      ]
     },
     "execution_count": 72,
     "metadata": {},
     "output_type": "execute_result"
    }
   ],
   "source": [
    "reg.predict(X_test)"
   ]
  },
  {
   "cell_type": "raw",
   "id": "a0dad5ae",
   "metadata": {},
   "source": [
    "0-->setosa\n",
    "1-->versicolor\n",
    "2-->virginica"
   ]
  },
  {
   "cell_type": "code",
   "execution_count": 58,
   "id": "d2f5a437",
   "metadata": {},
   "outputs": [
    {
     "data": {
      "text/plain": [
       "0.9666666666666667"
      ]
     },
     "execution_count": 58,
     "metadata": {},
     "output_type": "execute_result"
    }
   ],
   "source": [
    "reg.score(X_test,y_test)"
   ]
  },
  {
   "cell_type": "code",
   "execution_count": 73,
   "id": "dd01f014",
   "metadata": {},
   "outputs": [
    {
     "data": {
      "text/plain": [
       "array([[3.37620047e-03, 7.61095648e-01, 2.35528152e-01],\n",
       "       [2.92217674e-04, 1.62572067e-01, 8.37135715e-01],\n",
       "       [2.58117843e-03, 4.52178179e-01, 5.45240642e-01],\n",
       "       [9.65551808e-01, 3.44481209e-02, 7.10215128e-08],\n",
       "       [3.08161873e-04, 1.79323658e-01, 8.20368180e-01],\n",
       "       [9.61184658e-01, 3.88151616e-02, 1.80091483e-07],\n",
       "       [8.04993085e-06, 6.05353161e-02, 9.39456634e-01],\n",
       "       [9.65115425e-01, 3.48844840e-02, 9.06075619e-08],\n",
       "       [1.59044277e-02, 9.28987364e-01, 5.51082088e-02],\n",
       "       [9.74699977e-01, 2.52999223e-02, 1.01083494e-07],\n",
       "       [9.81647883e-01, 1.83520877e-02, 2.89431661e-08],\n",
       "       [9.62279667e-01, 3.77199467e-02, 3.86262233e-07],\n",
       "       [9.52507342e-01, 4.74924428e-02, 2.15296419e-07],\n",
       "       [9.31882545e-01, 6.81171963e-02, 2.58870022e-07],\n",
       "       [5.72963160e-05, 1.08214569e-01, 8.91728134e-01],\n",
       "       [1.25087782e-05, 3.46340296e-02, 9.65353462e-01],\n",
       "       [3.17562785e-05, 7.72888419e-02, 9.22679402e-01],\n",
       "       [9.67971989e-01, 3.20279229e-02, 8.81706150e-08],\n",
       "       [1.83249140e-02, 9.49099716e-01, 3.25753702e-02],\n",
       "       [9.70849064e-01, 2.91508732e-02, 6.29635611e-08],\n",
       "       [9.78591075e-01, 2.14088970e-02, 2.74874066e-08],\n",
       "       [1.83891912e-04, 1.74504728e-01, 8.25311380e-01],\n",
       "       [1.83910838e-03, 4.49609057e-01, 5.48551835e-01],\n",
       "       [9.84220087e-01, 1.57798756e-02, 3.79106852e-08],\n",
       "       [9.70991851e-01, 2.90080889e-02, 6.03913748e-08],\n",
       "       [7.71655873e-06, 5.94340294e-02, 9.40558254e-01],\n",
       "       [1.32272313e-03, 7.79299891e-01, 2.19377386e-01],\n",
       "       [8.37004108e-04, 5.80432437e-01, 4.18730559e-01],\n",
       "       [9.64327396e-01, 3.56724783e-02, 1.25642629e-07],\n",
       "       [9.29026474e-05, 1.33049811e-01, 8.66857286e-01]])"
      ]
     },
     "execution_count": 73,
     "metadata": {},
     "output_type": "execute_result"
    }
   ],
   "source": [
    "reg.predict_proba(X_test)"
   ]
  },
  {
   "cell_type": "code",
   "execution_count": null,
   "id": "419320ef",
   "metadata": {},
   "outputs": [],
   "source": []
  }
 ],
 "metadata": {
  "kernelspec": {
   "display_name": "Python 3 (ipykernel)",
   "language": "python",
   "name": "python3"
  },
  "language_info": {
   "codemirror_mode": {
    "name": "ipython",
    "version": 3
   },
   "file_extension": ".py",
   "mimetype": "text/x-python",
   "name": "python",
   "nbconvert_exporter": "python",
   "pygments_lexer": "ipython3",
   "version": "3.9.12"
  }
 },
 "nbformat": 4,
 "nbformat_minor": 5
}
